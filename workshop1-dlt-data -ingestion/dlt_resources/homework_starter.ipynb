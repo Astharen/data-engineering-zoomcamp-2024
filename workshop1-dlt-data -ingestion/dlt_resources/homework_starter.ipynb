{
 "cells": [
  {
   "cell_type": "markdown",
   "metadata": {
    "id": "mrTFv5nPClXh"
   },
   "source": [
    "# **Homework**: Data talks club data engineering zoomcamp Data loading workshop\n",
    "\n",
    "Hello folks, let's practice what we learned - Loading data with the best practices of data engineering.\n",
    "\n",
    "Here are the exercises we will do\n",
    "\n",
    "\n"
   ]
  },
  {
   "cell_type": "markdown",
   "metadata": {
    "id": "wLF4iXf-NR7t"
   },
   "source": [
    "# 1. Use a generator\n",
    "\n",
    "Remember the concept of generator? Let's practice using them to futher our understanding of how they work.\n",
    "\n",
    "Let's define a generator and then run it as practice.\n",
    "\n",
    "**Answer the following questions:**\n",
    "\n",
    "- **Question 1: What is the sum of the outputs of the generator for limit = 5?**\n",
    "- **Question 2: What is the 13th number yielded**\n",
    "\n",
    "I suggest practicing these questions without GPT as the purpose is to further your learning."
   ]
  },
  {
   "cell_type": "code",
   "execution_count": 1,
   "metadata": {
    "colab": {
     "base_uri": "https://localhost:8080/"
    },
    "id": "wLng-bDJN4jf",
    "outputId": "547683cb-5f56-4815-a903-d0d9578eb1f9"
   },
   "outputs": [
    {
     "data": {
      "text/plain": [
       "8.382332347441762"
      ]
     },
     "execution_count": 1,
     "metadata": {},
     "output_type": "execute_result"
    }
   ],
   "source": [
    "def square_root_generator(limit):\n",
    "    n = 1\n",
    "    while n <= limit:\n",
    "        yield n ** 0.5\n",
    "        n += 1\n",
    "\n",
    "# Example usage:\n",
    "limit = 5\n",
    "generator = square_root_generator(limit)\n",
    "\n",
    "sum([sqrt_value for sqrt_value in generator])"
   ]
  },
  {
   "cell_type": "code",
   "execution_count": 3,
   "metadata": {},
   "outputs": [
    {
     "name": "stdout",
     "output_type": "stream",
     "text": [
      "1.0\n",
      "1.4142135623730951\n",
      "1.7320508075688772\n",
      "2.0\n",
      "2.23606797749979\n",
      "2.449489742783178\n",
      "2.6457513110645907\n",
      "2.8284271247461903\n",
      "3.0\n",
      "3.1622776601683795\n",
      "3.3166247903554\n",
      "3.4641016151377544\n",
      "3.605551275463989\n"
     ]
    }
   ],
   "source": [
    "generator2 = square_root_generator(13)\n",
    "\n",
    "for value in generator2:\n",
    "    print(value)"
   ]
  },
  {
   "cell_type": "markdown",
   "metadata": {
    "id": "xbe3q55zN43j"
   },
   "source": []
  },
  {
   "cell_type": "markdown",
   "metadata": {
    "id": "vjWhILzGJMpK"
   },
   "source": [
    "# 2. Append a generator to a table with existing data\n",
    "\n",
    "\n",
    "Below you have 2 generators. You will be tasked to load them to duckdb and answer some questions from the data\n",
    "\n",
    "1. Load the first generator and calculate the sum of ages of all people. Make sure to only load it once.\n",
    "2. Append the second generator to the same table as the first.\n",
    "3. **After correctly appending the data, calculate the sum of all ages of people.**\n",
    "\n",
    "\n"
   ]
  },
  {
   "cell_type": "code",
   "execution_count": 13,
   "metadata": {},
   "outputs": [
    {
     "name": "stdout",
     "output_type": "stream",
     "text": [
      "Requirement already satisfied: dlt[duckdb] in c:\\users\\almudena\\appdata\\local\\programs\\python\\python39\\lib\\site-packages (0.4.2)\n",
      "Requirement already satisfied: PyYAML>=5.4.1 in c:\\users\\almudena\\appdata\\local\\programs\\python\\python39\\lib\\site-packages (from dlt[duckdb]) (5.4.1)\n",
      "Requirement already satisfied: tomlkit>=0.11.3 in c:\\users\\almudena\\appdata\\local\\programs\\python\\python39\\lib\\site-packages (from dlt[duckdb]) (0.12.3)\n",
      "Requirement already satisfied: pathvalidate>=2.5.2 in c:\\users\\almudena\\appdata\\local\\programs\\python\\python39\\lib\\site-packages (from dlt[duckdb]) (3.2.0)\n",
      "Requirement already satisfied: hexbytes>=0.2.2 in c:\\users\\almudena\\appdata\\local\\programs\\python\\python39\\lib\\site-packages (from dlt[duckdb]) (1.0.0)\n",
      "Requirement already satisfied: giturlparse>=0.10.0 in c:\\users\\almudena\\appdata\\local\\programs\\python\\python39\\lib\\site-packages (from dlt[duckdb]) (0.12.0)\n",
      "Requirement already satisfied: fsspec>=2022.4.0 in c:\\users\\almudena\\appdata\\local\\programs\\python\\python39\\lib\\site-packages (from dlt[duckdb]) (2024.2.0)\n",
      "Requirement already satisfied: astunparse>=1.6.3 in c:\\users\\almudena\\appdata\\local\\programs\\python\\python39\\lib\\site-packages (from dlt[duckdb]) (1.6.3)\n",
      "Requirement already satisfied: jsonpath-ng>=1.5.3 in c:\\users\\almudena\\appdata\\local\\programs\\python\\python39\\lib\\site-packages (from dlt[duckdb]) (1.6.1)\n",
      "Requirement already satisfied: tzdata>=2022.1 in c:\\users\\almudena\\appdata\\local\\programs\\python\\python39\\lib\\site-packages (from dlt[duckdb]) (2023.4)\n",
      "Requirement already satisfied: humanize>=4.4.0 in c:\\users\\almudena\\appdata\\local\\programs\\python\\python39\\lib\\site-packages (from dlt[duckdb]) (4.9.0)\n",
      "Requirement already satisfied: orjson>=3.6.7 in c:\\users\\almudena\\appdata\\local\\programs\\python\\python39\\lib\\site-packages (from dlt[duckdb]) (3.9.13)\n",
      "Requirement already satisfied: makefun>=1.15.0 in c:\\users\\almudena\\appdata\\local\\programs\\python\\python39\\lib\\site-packages (from dlt[duckdb]) (1.15.2)\n",
      "Requirement already satisfied: click>=7.1 in c:\\users\\almudena\\appdata\\local\\programs\\python\\python39\\lib\\site-packages (from dlt[duckdb]) (8.0.1)\n",
      "Requirement already satisfied: tenacity>=8.0.2 in c:\\users\\almudena\\appdata\\local\\programs\\python\\python39\\lib\\site-packages (from dlt[duckdb]) (8.2.3)\n",
      "Requirement already satisfied: requests>=2.26.0 in c:\\users\\almudena\\appdata\\local\\programs\\python\\python39\\lib\\site-packages (from dlt[duckdb]) (2.31.0)\n",
      "Requirement already satisfied: requirements-parser>=0.5.0 in c:\\users\\almudena\\appdata\\local\\programs\\python\\python39\\lib\\site-packages (from dlt[duckdb]) (0.5.0)\n",
      "Requirement already satisfied: pendulum>=2.1.2 in c:\\users\\almudena\\appdata\\local\\programs\\python\\python39\\lib\\site-packages (from dlt[duckdb]) (3.0.0)\n",
      "Requirement already satisfied: pytz>=2022.6 in c:\\users\\almudena\\appdata\\local\\programs\\python\\python39\\lib\\site-packages (from dlt[duckdb]) (2024.1)\n",
      "Requirement already satisfied: packaging>=21.1 in c:\\users\\almudena\\appdata\\local\\programs\\python\\python39\\lib\\site-packages (from dlt[duckdb]) (23.0)\n",
      "Requirement already satisfied: typing-extensions>=4.0.0 in c:\\users\\almudena\\appdata\\local\\programs\\python\\python39\\lib\\site-packages (from dlt[duckdb]) (4.9.0)\n",
      "Requirement already satisfied: semver>=2.13.0 in c:\\users\\almudena\\appdata\\local\\programs\\python\\python39\\lib\\site-packages (from dlt[duckdb]) (3.0.2)\n",
      "Requirement already satisfied: simplejson>=3.17.5 in c:\\users\\almudena\\appdata\\local\\programs\\python\\python39\\lib\\site-packages (from dlt[duckdb]) (3.19.2)\n",
      "Requirement already satisfied: setuptools>=65.6.0 in c:\\users\\almudena\\appdata\\local\\programs\\python\\python39\\lib\\site-packages (from dlt[duckdb]) (69.0.3)\n",
      "Requirement already satisfied: gitpython>=3.1.29 in c:\\users\\almudena\\appdata\\local\\programs\\python\\python39\\lib\\site-packages (from dlt[duckdb]) (3.1.41)\n",
      "Requirement already satisfied: SQLAlchemy>=1.4.0 in c:\\users\\almudena\\appdata\\local\\programs\\python\\python39\\lib\\site-packages (from dlt[duckdb]) (1.4.20)\n",
      "Requirement already satisfied: win-precise-time>=1.4.2 in c:\\users\\almudena\\appdata\\local\\programs\\python\\python39\\lib\\site-packages (from dlt[duckdb]) (1.4.2)\n",
      "Collecting duckdb<0.10.0,>=0.6.1\n",
      "  Downloading duckdb-0.9.2-cp39-cp39-win_amd64.whl (10.3 MB)\n",
      "     ---------------------------------------- 10.3/10.3 MB 7.0 MB/s eta 0:00:00\n",
      "Requirement already satisfied: six<2.0,>=1.6.1 in c:\\users\\almudena\\appdata\\local\\programs\\python\\python39\\lib\\site-packages (from astunparse>=1.6.3->dlt[duckdb]) (1.15.0)\n",
      "Requirement already satisfied: wheel<1.0,>=0.23.0 in c:\\users\\almudena\\appdata\\local\\programs\\python\\python39\\lib\\site-packages (from astunparse>=1.6.3->dlt[duckdb]) (0.36.2)\n",
      "Requirement already satisfied: colorama in c:\\users\\almudena\\appdata\\local\\programs\\python\\python39\\lib\\site-packages (from click>=7.1->dlt[duckdb]) (0.4.4)\n",
      "Requirement already satisfied: gitdb<5,>=4.0.1 in c:\\users\\almudena\\appdata\\local\\programs\\python\\python39\\lib\\site-packages (from gitpython>=3.1.29->dlt[duckdb]) (4.0.11)\n",
      "Requirement already satisfied: ply in c:\\users\\almudena\\appdata\\local\\programs\\python\\python39\\lib\\site-packages (from jsonpath-ng>=1.5.3->dlt[duckdb]) (3.11)\n",
      "Requirement already satisfied: time-machine>=2.6.0 in c:\\users\\almudena\\appdata\\local\\programs\\python\\python39\\lib\\site-packages (from pendulum>=2.1.2->dlt[duckdb]) (2.13.0)\n",
      "Requirement already satisfied: python-dateutil>=2.6 in c:\\users\\almudena\\appdata\\local\\programs\\python\\python39\\lib\\site-packages (from pendulum>=2.1.2->dlt[duckdb]) (2.8.1)\n",
      "Requirement already satisfied: idna<4,>=2.5 in c:\\users\\almudena\\appdata\\local\\programs\\python\\python39\\lib\\site-packages (from requests>=2.26.0->dlt[duckdb]) (2.10)\n",
      "Requirement already satisfied: urllib3<3,>=1.21.1 in c:\\users\\almudena\\appdata\\local\\programs\\python\\python39\\lib\\site-packages (from requests>=2.26.0->dlt[duckdb]) (1.26.4)\n",
      "Requirement already satisfied: charset-normalizer<4,>=2 in c:\\users\\almudena\\appdata\\local\\programs\\python\\python39\\lib\\site-packages (from requests>=2.26.0->dlt[duckdb]) (3.3.2)\n",
      "Requirement already satisfied: certifi>=2017.4.17 in c:\\users\\almudena\\appdata\\local\\programs\\python\\python39\\lib\\site-packages (from requests>=2.26.0->dlt[duckdb]) (2020.12.5)\n",
      "Requirement already satisfied: types-setuptools>=57.0.0 in c:\\users\\almudena\\appdata\\local\\programs\\python\\python39\\lib\\site-packages (from requirements-parser>=0.5.0->dlt[duckdb]) (69.0.0.20240125)\n",
      "Requirement already satisfied: greenlet!=0.4.17 in c:\\users\\almudena\\appdata\\local\\programs\\python\\python39\\lib\\site-packages (from SQLAlchemy>=1.4.0->dlt[duckdb]) (2.0.2)\n",
      "Requirement already satisfied: smmap<6,>=3.0.1 in c:\\users\\almudena\\appdata\\local\\programs\\python\\python39\\lib\\site-packages (from gitdb<5,>=4.0.1->gitpython>=3.1.29->dlt[duckdb]) (5.0.1)\n",
      "Installing collected packages: duckdb\n",
      "Successfully installed duckdb-0.9.2\n"
     ]
    },
    {
     "name": "stderr",
     "output_type": "stream",
     "text": [
      "WARNING: There was an error checking the latest version of pip.\n"
     ]
    }
   ],
   "source": [
    "#Install the dependencies\n",
    "!pip install dlt[duckdb]"
   ]
  },
  {
   "cell_type": "code",
   "execution_count": 14,
   "metadata": {
    "colab": {
     "base_uri": "https://localhost:8080/"
    },
    "id": "2MoaQcdLBEk6",
    "outputId": "d2b93dc1-d83f-44ea-aeff-fdf51d75f7aa"
   },
   "outputs": [
    {
     "name": "stdout",
     "output_type": "stream",
     "text": [
      "{'ID': 1, 'Name': 'Person_1', 'Age': 26, 'City': 'City_A'}\n",
      "{'ID': 2, 'Name': 'Person_2', 'Age': 27, 'City': 'City_A'}\n",
      "{'ID': 3, 'Name': 'Person_3', 'Age': 28, 'City': 'City_A'}\n",
      "{'ID': 4, 'Name': 'Person_4', 'Age': 29, 'City': 'City_A'}\n",
      "{'ID': 5, 'Name': 'Person_5', 'Age': 30, 'City': 'City_A'}\n",
      "{'ID': 3, 'Name': 'Person_3', 'Age': 33, 'City': 'City_B', 'Occupation': 'Job_3'}\n",
      "{'ID': 4, 'Name': 'Person_4', 'Age': 34, 'City': 'City_B', 'Occupation': 'Job_4'}\n",
      "{'ID': 5, 'Name': 'Person_5', 'Age': 35, 'City': 'City_B', 'Occupation': 'Job_5'}\n",
      "{'ID': 6, 'Name': 'Person_6', 'Age': 36, 'City': 'City_B', 'Occupation': 'Job_6'}\n",
      "{'ID': 7, 'Name': 'Person_7', 'Age': 37, 'City': 'City_B', 'Occupation': 'Job_7'}\n",
      "{'ID': 8, 'Name': 'Person_8', 'Age': 38, 'City': 'City_B', 'Occupation': 'Job_8'}\n"
     ]
    }
   ],
   "source": [
    "def people_1():\n",
    "    for i in range(1, 6):\n",
    "        yield {\"ID\": i, \"Name\": f\"Person_{i}\", \"Age\": 25 + i, \"City\": \"City_A\"}\n",
    "\n",
    "for person in people_1():\n",
    "    print(person)\n",
    "\n",
    "\n",
    "def people_2():\n",
    "    for i in range(3, 9):\n",
    "        yield {\"ID\": i, \"Name\": f\"Person_{i}\", \"Age\": 30 + i, \"City\": \"City_B\", \"Occupation\": f\"Job_{i}\"}\n",
    "\n",
    "\n",
    "for person in people_2():\n",
    "    print(person)\n"
   ]
  },
  {
   "cell_type": "code",
   "execution_count": 26,
   "metadata": {},
   "outputs": [
    {
     "data": {
      "text/plain": [
       "266"
      ]
     },
     "execution_count": 26,
     "metadata": {},
     "output_type": "execute_result"
    }
   ],
   "source": [
    "26 + 27 + 33 + 34 + 35 + 36 + 37 + 38"
   ]
  },
  {
   "cell_type": "code",
   "execution_count": 23,
   "metadata": {},
   "outputs": [
    {
     "name": "stdout",
     "output_type": "stream",
     "text": [
      "Pipeline dlt_ipykernel_launcher load step completed in 0.26 seconds\n",
      "1 load package(s) were loaded to destination duckdb and into dataset generators\n",
      "The duckdb destination used duckdb:///E:\\Documentos\\Proyectos\\Personal\\data-engineering-zoomcamp-2024\\workshop1-dlt-data -ingestion\\dlt_resources\\dlt_ipykernel_launcher.duckdb location to store data\n",
      "Load package 1707332736.7739978 is LOADED and contains no failed jobs\n",
      "Pipeline dlt_ipykernel_launcher load step completed in 0.22 seconds\n",
      "1 load package(s) were loaded to destination duckdb and into dataset generators\n",
      "The duckdb destination used duckdb:///E:\\Documentos\\Proyectos\\Personal\\data-engineering-zoomcamp-2024\\workshop1-dlt-data -ingestion\\dlt_resources\\dlt_ipykernel_launcher.duckdb location to store data\n",
      "Load package 1707332737.5770192 is LOADED and contains no failed jobs\n"
     ]
    }
   ],
   "source": [
    "import dlt\n",
    "\n",
    "# define the connection to load to.\n",
    "# We now use duckdb, but you can switch to Bigquery later\n",
    "generators_pipeline = dlt.pipeline(destination='duckdb', dataset_name='generators')\n",
    "\n",
    "\n",
    "# we can load any generator to a table at the pipeline destnation as follows:\n",
    "info = generators_pipeline.run(people_1(), table_name=\"people\", write_disposition=\"append\")\n",
    "\n",
    "# the outcome metadata is returned by the load and we can inspect it by printing it.\n",
    "print(info)\n",
    "\n",
    "# we can load the next generator to the same or to a different table.\n",
    "info = generators_pipeline.run(people_2(), table_name=\"people\", write_disposition=\"append\")\n",
    "\n",
    "print(info)"
   ]
  },
  {
   "cell_type": "code",
   "execution_count": 19,
   "metadata": {},
   "outputs": [
    {
     "name": "stdout",
     "output_type": "stream",
     "text": [
      "Loaded tables: \n"
     ]
    },
    {
     "data": {
      "text/plain": [
       "┌─────────────────────┐\n",
       "│        name         │\n",
       "│       varchar       │\n",
       "├─────────────────────┤\n",
       "│ _dlt_loads          │\n",
       "│ _dlt_pipeline_state │\n",
       "│ _dlt_version        │\n",
       "│ people              │\n",
       "└─────────────────────┘"
      ]
     },
     "metadata": {},
     "output_type": "display_data"
    },
    {
     "name": "stdout",
     "output_type": "stream",
     "text": [
      "\n",
      "\n",
      "\n",
      " http_download table below:\n"
     ]
    },
    {
     "data": {
      "text/plain": [
       "┌──────────┐\n",
       "│ sum(age) │\n",
       "│  int128  │\n",
       "├──────────┤\n",
       "│      353 │\n",
       "└──────────┘"
      ]
     },
     "execution_count": 19,
     "metadata": {},
     "output_type": "execute_result"
    }
   ],
   "source": [
    "import duckdb\n",
    "\n",
    "conn = duckdb.connect(f\"{generators_pipeline.pipeline_name}.duckdb\")\n",
    "\n",
    "# let's see the tables\n",
    "conn.sql(f\"SET search_path = '{generators_pipeline.dataset_name}'\")\n",
    "print('Loaded tables: ')\n",
    "display(conn.sql(\"show tables\"))\n",
    "\n",
    "# and the data\n",
    "\n",
    "print(\"\\n\\n\\n http_download table below:\")\n",
    "\n",
    "conn.sql(\"SELECT SUM(age) FROM people\")"
   ]
  },
  {
   "cell_type": "markdown",
   "metadata": {
    "id": "vtdTIm4fvQCN"
   },
   "source": []
  },
  {
   "cell_type": "markdown",
   "metadata": {
    "id": "pY4cFAWOSwN1"
   },
   "source": [
    "# 3. Merge a generator\n",
    "\n",
    "Re-use the generators from Exercise 2.\n",
    "\n",
    "A table's primary key needs to be created from the start, so load your data to a new table with primary key ID.\n",
    "\n",
    "Load your first generator first, and then load the second one with merge. Since they have overlapping IDs, some of the records from the first load should be replaced by the ones from the second load.\n",
    "\n",
    "After loading, you should have a total of 8 records, and ID 3 should have age 33.\n",
    "\n",
    "Question: **Calculate the sum of ages of all the people loaded as described above.**\n"
   ]
  },
  {
   "cell_type": "markdown",
   "metadata": {
    "id": "kKB2GTB9oVjr"
   },
   "source": [
    "# Solution: First make sure that the following modules are installed:"
   ]
  },
  {
   "cell_type": "code",
   "execution_count": 29,
   "metadata": {
    "id": "a2-PRBAkGC2K"
   },
   "outputs": [
    {
     "name": "stdout",
     "output_type": "stream",
     "text": [
      "Pipeline dlt_ipykernel_launcher load step completed in 0.42 seconds\n",
      "1 load package(s) were loaded to destination duckdb and into dataset generators\n",
      "The duckdb destination used duckdb:///E:\\Documentos\\Proyectos\\Personal\\data-engineering-zoomcamp-2024\\workshop1-dlt-data -ingestion\\dlt_resources\\dlt_ipykernel_launcher.duckdb location to store data\n",
      "Load package 1707332993.336825 is LOADED and contains no failed jobs\n"
     ]
    }
   ],
   "source": [
    "generators_pipeline = dlt.pipeline(destination='duckdb', dataset_name='generators')\n",
    "\n",
    "\n",
    "# we can load any generator to a table at the pipeline destnation as follows:\n",
    "info = generators_pipeline.run(people_1(), table_name=\"people_merge\", write_disposition=\"merge\", primary_key='ID')\n",
    "\n",
    "# the outcome metadata is returned by the load and we can inspect it by printing it.\n",
    "print(info)\n",
    "\n",
    "# we can load the next generator to the same or to a different table.\n",
    "info = generators_pipeline.run(people_2(), table_name=\"people_merge\", write_disposition=\"merge\", primary_key='ID')"
   ]
  },
  {
   "cell_type": "code",
   "execution_count": 31,
   "metadata": {},
   "outputs": [
    {
     "data": {
      "text/plain": [
       "┌──────────────┐\n",
       "│ count_star() │\n",
       "│    int64     │\n",
       "├──────────────┤\n",
       "│            8 │\n",
       "└──────────────┘"
      ]
     },
     "execution_count": 31,
     "metadata": {},
     "output_type": "execute_result"
    }
   ],
   "source": [
    "conn.sql('SELECT COUNT(*) FROM people_merge')"
   ]
  },
  {
   "cell_type": "code",
   "execution_count": 30,
   "metadata": {},
   "outputs": [
    {
     "data": {
      "text/plain": [
       "┌───────┬──────────┬───────┬─────────┬────────────────────┬────────────────┬────────────┐\n",
       "│  id   │   name   │  age  │  city   │    _dlt_load_id    │    _dlt_id     │ occupation │\n",
       "│ int64 │ varchar  │ int64 │ varchar │      varchar       │    varchar     │  varchar   │\n",
       "├───────┼──────────┼───────┼─────────┼────────────────────┼────────────────┼────────────┤\n",
       "│     2 │ Person_2 │    27 │ City_A  │ 1707332993.336825  │ Ls+AKwCxJeZOkQ │ NULL       │\n",
       "│     1 │ Person_1 │    26 │ City_A  │ 1707332993.336825  │ zZAhv2kte+fiIg │ NULL       │\n",
       "│     5 │ Person_5 │    35 │ City_B  │ 1707332994.2617822 │ ynd7ANNtaz1Lcg │ Job_5      │\n",
       "│     8 │ Person_8 │    38 │ City_B  │ 1707332994.2617822 │ O+Z0Ep1/gDAwHg │ Job_8      │\n",
       "│     4 │ Person_4 │    34 │ City_B  │ 1707332994.2617822 │ HxbJUVM/Qh6n3A │ Job_4      │\n",
       "│     3 │ Person_3 │    33 │ City_B  │ 1707332994.2617822 │ YC644mCZKVcoNQ │ Job_3      │\n",
       "│     6 │ Person_6 │    36 │ City_B  │ 1707332994.2617822 │ CSoqiGGb0E73ow │ Job_6      │\n",
       "│     7 │ Person_7 │    37 │ City_B  │ 1707332994.2617822 │ lI3e2Gv+pahH1w │ Job_7      │\n",
       "└───────┴──────────┴───────┴─────────┴────────────────────┴────────────────┴────────────┘"
      ]
     },
     "execution_count": 30,
     "metadata": {},
     "output_type": "execute_result"
    }
   ],
   "source": [
    "conn.sql('SELECT * FROM people_merge')"
   ]
  },
  {
   "cell_type": "code",
   "execution_count": 24,
   "metadata": {},
   "outputs": [
    {
     "data": {
      "text/plain": [
       "┌──────────┐\n",
       "│ sum(age) │\n",
       "│  int128  │\n",
       "├──────────┤\n",
       "│      266 │\n",
       "└──────────┘"
      ]
     },
     "execution_count": 24,
     "metadata": {},
     "output_type": "execute_result"
    }
   ],
   "source": [
    "conn.sql('SELECT SUM(age) FROM people_merge')"
   ]
  },
  {
   "cell_type": "markdown",
   "metadata": {
    "id": "PoTJu4kbGG0z"
   },
   "source": [
    "Questions? difficulties? We are here to help.\n",
    "- DTC data engineering course channel: https://datatalks-club.slack.com/archives/C01FABYF2RG\n",
    "- dlt's DTC cohort channel: https://dlthub-community.slack.com/archives/C06GAEX2VNX"
   ]
  }
 ],
 "metadata": {
  "colab": {
   "provenance": []
  },
  "kernelspec": {
   "display_name": "Python 3",
   "language": "python",
   "name": "python3"
  },
  "language_info": {
   "codemirror_mode": {
    "name": "ipython",
    "version": 3
   },
   "file_extension": ".py",
   "mimetype": "text/x-python",
   "name": "python",
   "nbconvert_exporter": "python",
   "pygments_lexer": "ipython3",
   "version": "3.9.6"
  }
 },
 "nbformat": 4,
 "nbformat_minor": 1
}
